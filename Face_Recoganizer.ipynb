{
 "cells": [
  {
   "cell_type": "code",
   "execution_count": 1,
   "metadata": {},
   "outputs": [],
   "source": [
    "import cv2\n",
    "import numpy\n",
    "import os "
   ]
  },
  {
   "cell_type": "code",
   "execution_count": 2,
   "metadata": {},
   "outputs": [],
   "source": [
    "datasets = 'E://Datasets'  \n",
    "sub_data = 'Kanhaiya'     \n",
    "path = os.path.join(datasets, sub_data)  "
   ]
  },
  {
   "cell_type": "code",
   "execution_count": null,
   "metadata": {},
   "outputs": [],
   "source": [
    "# collect 100 images of your face"
   ]
  },
  {
   "cell_type": "code",
   "execution_count": 66,
   "metadata": {},
   "outputs": [],
   "source": [
    "(width, height)=(130,130)\n",
    "face_cascade = cv2.CascadeClassifier('haarcascade_frontalface_default.xml') \n",
    "cap = cv2.VideoCapture(0)   \n",
    "count = 1\n",
    "while cap.isOpened() :  \n",
    "    (_, im) = cap.read() \n",
    "    gray = cv2.cvtColor(im, cv2.COLOR_BGR2GRAY) \n",
    "    faces = face_cascade.detectMultiScale(gray, 1.3, 4) \n",
    "    for (x, y, w, h) in faces: \n",
    "        cv2.rectangle(im, (x, y), (x + w, y + h), (255, 0, 0), 2) \n",
    "        face = gray[y:y + h, x:x + w] \n",
    "        face_resize = cv2.resize(face, (width, height)) \n",
    "        cv2.imwrite('% s/% s.jpg' % (path, count), face_resize) \n",
    "    count += 1\n",
    "    cv2.imshow('OpenCV', im) \n",
    "    if cv2.waitKey(1) == 13 or count==101: \n",
    "        break\n",
    "cap.release()\n",
    "cv2.destroyAllWindows()"
   ]
  },
  {
   "cell_type": "code",
   "execution_count": 3,
   "metadata": {},
   "outputs": [],
   "source": [
    "folder='E://Datasets'\n",
    "categoris=['Kanhaiya']"
   ]
  },
  {
   "cell_type": "code",
   "execution_count": 4,
   "metadata": {},
   "outputs": [],
   "source": [
    "#Prepare training data "
   ]
  },
  {
   "cell_type": "code",
   "execution_count": 5,
   "metadata": {},
   "outputs": [],
   "source": [
    "train_data=[]\n",
    "train_label=[]\n",
    "def create_training_data():\n",
    "    for category in categoris:\n",
    "        path=os.path.join(folder,category)\n",
    "        class_num=categoris.index(category)\n",
    "        for img in os.listdir(path):\n",
    "            img_array=cv2.imread(os.path.join(path,img),cv2.IMREAD_GRAYSCALE)\n",
    "            train_data.append(numpy.asarray(img_array,dtype=numpy.uint8))\n",
    "            train_label.append(class_num)"
   ]
  },
  {
   "cell_type": "code",
   "execution_count": 6,
   "metadata": {},
   "outputs": [],
   "source": [
    "create_training_data()"
   ]
  },
  {
   "cell_type": "code",
   "execution_count": 7,
   "metadata": {},
   "outputs": [],
   "source": [
    "train_label=numpy.asarray(train_label)"
   ]
  },
  {
   "cell_type": "code",
   "execution_count": 8,
   "metadata": {},
   "outputs": [],
   "source": [
    "#Train our facerecoganizer model"
   ]
  },
  {
   "cell_type": "code",
   "execution_count": 9,
   "metadata": {},
   "outputs": [],
   "source": [
    "model = cv2.face.LBPHFaceRecognizer_create()\n",
    "model.train(train_data, train_label)"
   ]
  },
  {
   "cell_type": "code",
   "execution_count": 10,
   "metadata": {},
   "outputs": [],
   "source": [
    "#Make prediction and see the result"
   ]
  },
  {
   "cell_type": "code",
   "execution_count": 16,
   "metadata": {},
   "outputs": [],
   "source": [
    "face_cascade = cv2.CascadeClassifier('haarcascade_frontalface_default.xml') \n",
    "cap = cv2.VideoCapture(0) \n",
    "(width, height)=(130,130)\n",
    "while cap.isOpened(): \n",
    "    (_, im) = cap.read() \n",
    "    gray = cv2.cvtColor(im, cv2.COLOR_BGR2GRAY) \n",
    "    faces = face_cascade.detectMultiScale(gray, 1.3, 5)\n",
    "    if type(faces) is tuple:\n",
    "        cv2.putText(im, 'Face not found',(160,220), cv2.FONT_HERSHEY_COMPLEX, 1, (0, 0, 255),2) \n",
    "        cv2.imshow('OpenCV', im)   \n",
    "    else:\n",
    "        for (x, y, w, h) in faces: \n",
    "            cv2.rectangle(im, (x, y), (x + w, y + h), (255, 0, 0), 2) \n",
    "            face = gray[y:y + h, x:x + w] \n",
    "            face_resize = cv2.resize(face, (width, height))  \n",
    "            prediction = model.predict(face_resize) \n",
    "            cv2.rectangle(im, (x, y), (x + w, y + h), (255, 255, 255), 2)\n",
    "            if prediction[1]<500: \n",
    "                con=int(100*(1-(prediction[1])/300))\n",
    "                dis=str(con)+'%'\n",
    "                cv2.putText(im,dis,(x-10, y-10),cv2.FONT_HERSHEY_COMPLEX, 1,(0, 0, 0),2)    \n",
    "            if con>75:\n",
    "                    cv2.putText(im,\"     Kanhaiya\",(x-10, y-10),cv2.FONT_HERSHEY_COMPLEX, 1, (0, 0, 0),2)\n",
    "            else: \n",
    "                cv2.putText(im, 'Unknown',(160,450), cv2.FONT_HERSHEY_COMPLEX, 1, (0, 255, 255),2)          \n",
    "        cv2.imshow('OpenCV', im)             \n",
    "    if cv2.waitKey(1) == 13:\n",
    "        break\n",
    "cap.release()\n",
    "cv2.destroyAllWindows()        "
   ]
  },
  {
   "cell_type": "code",
   "execution_count": null,
   "metadata": {},
   "outputs": [],
   "source": []
  },
  {
   "cell_type": "code",
   "execution_count": null,
   "metadata": {},
   "outputs": [],
   "source": []
  },
  {
   "cell_type": "code",
   "execution_count": null,
   "metadata": {},
   "outputs": [],
   "source": []
  },
  {
   "cell_type": "code",
   "execution_count": null,
   "metadata": {},
   "outputs": [],
   "source": []
  },
  {
   "cell_type": "code",
   "execution_count": null,
   "metadata": {},
   "outputs": [],
   "source": []
  }
 ],
 "metadata": {
  "kernelspec": {
   "display_name": "Python 3",
   "language": "python",
   "name": "python3"
  },
  "language_info": {
   "codemirror_mode": {
    "name": "ipython",
    "version": 3
   },
   "file_extension": ".py",
   "mimetype": "text/x-python",
   "name": "python",
   "nbconvert_exporter": "python",
   "pygments_lexer": "ipython3",
   "version": "3.7.1"
  }
 },
 "nbformat": 4,
 "nbformat_minor": 2
}
